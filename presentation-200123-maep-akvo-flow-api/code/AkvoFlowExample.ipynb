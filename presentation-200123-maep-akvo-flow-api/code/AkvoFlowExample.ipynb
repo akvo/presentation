{
 "cells": [
  {
   "cell_type": "code",
   "execution_count": 1,
   "id": "21663fad",
   "metadata": {},
   "outputs": [],
   "source": [
    "import requests\n",
    "import json\n",
    "import pandas as pd"
   ]
  },
  {
   "cell_type": "code",
   "execution_count": 2,
   "id": "13aa2034",
   "metadata": {},
   "outputs": [],
   "source": [
    "AUTH_URL = \"https://akvofoundation.eu.auth0.com/oauth/token\"\n",
    "SURVEY_URL = \"https://api-auth0.akvo.org/flow/orgs/maep/surveys/806432680\"\n",
    "MONITORING_FORM_NAME = \"Example Monitoring\""
   ]
  },
  {
   "cell_type": "code",
   "execution_count": 3,
   "id": "0cf969af",
   "metadata": {},
   "outputs": [],
   "source": [
    "USERNAME = \"\"\n",
    "PASSWORD = \"\""
   ]
  },
  {
   "cell_type": "code",
   "execution_count": 4,
   "id": "98426c0b",
   "metadata": {},
   "outputs": [],
   "source": [
    "r = requests.Session()"
   ]
  },
  {
   "cell_type": "code",
   "execution_count": 5,
   "id": "477e9774",
   "metadata": {},
   "outputs": [],
   "source": [
    "def get_token():                                                                                                                                                     \n",
    "    data = {                                                                                                                                                                                                         \n",
    "        \"client_id\": \"S6Pm0WF4LHONRPRKjepPXZoX1muXm1JS\",                                                                                                                                                             \n",
    "        \"username\": USERNAME,                                                                                                                                                                                        \n",
    "        \"password\": PASSWORD,                                                                                                                                                                     \n",
    "        \"grant_type\": \"password\",                                                                                                                                                                                    \n",
    "        \"scope\": \"offline_access\"                                                                                                                                                                                    \n",
    "    }                                                                                                                                                                                                                \n",
    "    req = r.post(AUTH_URL, data=data)                                                                                                                                                                             \n",
    "    if req.status_code != 200:                                                                                                                                                                                       \n",
    "        print(\"LOGIN ERROR\")                                                                                                                                                              \n",
    "    return req.json()"
   ]
  },
  {
   "cell_type": "code",
   "execution_count": 6,
   "id": "8670facf",
   "metadata": {},
   "outputs": [],
   "source": [
    "def get_data(target_url, headers):\n",
    "    res = r.get(target_url, headers=headers)\n",
    "    if res.status_code != 200:                                                                                                                                                                                       \n",
    "        print(\"FETCH DATA ERROR\")\n",
    "    return res.json()"
   ]
  },
  {
   "cell_type": "code",
   "execution_count": 7,
   "id": "b2ef317e",
   "metadata": {},
   "outputs": [],
   "source": [
    "def get_headers(refresh_token):                                                                             \n",
    "    login = {                                                                                            \n",
    "        'client_id': 'S6Pm0WF4LHONRPRKjepPXZoX1muXm1JS',                                                 \n",
    "        'grant_type': 'refresh_token',                                                                   \n",
    "        'refresh_token': refresh_token,                                                                          \n",
    "        'scope': 'openid email'                                                                          \n",
    "    }                                                                                                    \n",
    "    req = r.post(AUTH_URL, data=login)                          \n",
    "    if req.status_code != 200:                                                                           \n",
    "        return False                                                                                     \n",
    "    return {                                                                                             \n",
    "        'Content-Type': 'application/json',                                                              \n",
    "        'Accept': 'application/vnd.akvo.flow.v2+json',                                                   \n",
    "        'Authorization': 'Bearer {}'.format(req.json().get('id_token'))                                  \n",
    "    }"
   ]
  },
  {
   "cell_type": "code",
   "execution_count": 8,
   "id": "98686bba",
   "metadata": {},
   "outputs": [],
   "source": [
    "def fetch_all(url, headers, formInstances=[]):                                                                                                                                                                       \n",
    "    data = get_data(url, headers)                                                                                                                                                                                    \n",
    "    next_url = data.get('nextPageUrl')                                                                                                                                                                               \n",
    "    data = data.get('formInstances')                                                                                                                                                                                 \n",
    "    if data:                                                                                                                                                                                                         \n",
    "        for d in data:                                                                                                                                                                                               \n",
    "            formInstances.append(d)                                                                                                                                                                                  \n",
    "        if next_url:                                                                                                                                                                                                 \n",
    "            fetch_all(next_url, headers, formInstances)                                                                                                                                                              \n",
    "    return formInstances "
   ]
  },
  {
   "cell_type": "code",
   "execution_count": 9,
   "id": "39b7038e",
   "metadata": {},
   "outputs": [],
   "source": [
    "def data_handler(data, qType):                                                                                                                                                                                       \n",
    "    if data:                                                                                                                                                                                                         \n",
    "        if qType in [                                                                                                                                                                                                \n",
    "                'FREE_TEXT', 'NUMBER', 'BARCODE', 'DATE', 'GEOSHAPE', 'SCAN',                                                                                                                                        \n",
    "                'CADDISFLY'                                                                                                                                                                                          \n",
    "        ]:                                                                                                                                                                                                           \n",
    "            return data                                                                                                                                                                                              \n",
    "        if qType == 'OPTION':                                                                                                                                                                                        \n",
    "            return handle_list(data, \"text\")                                                                                                                                                                         \n",
    "        if qType == 'CASCADE':                                                                                                                                                                                       \n",
    "            return handle_list(data, \"name\")                                                                                                                                                                         \n",
    "        if qType in ['PHOTO', 'VIDEO']:                                                                                                                                                                              \n",
    "            return data.get('filename')                                                                                                                                                                              \n",
    "        if qType == 'VIDEO':                                                                                                                                                                                         \n",
    "            return data.get('filename')                                                                                                                                                                              \n",
    "        if qType == 'GEO':                                                                                                                                                                                           \n",
    "            return {'lat': data.get('lat'), 'long': data.get('long')}                                                                                                                                                \n",
    "        if qType == 'SIGNATURE':                                                                                                                                                                                     \n",
    "            return data.get(\"name\")                                                                                                                                                                                  \n",
    "    return None"
   ]
  },
  {
   "cell_type": "code",
   "execution_count": 10,
   "id": "82454257",
   "metadata": {},
   "outputs": [],
   "source": [
    "def handle_list(data, target):                                                                                                                                                                                       \n",
    "    response = []                                                                                                                                                                                                    \n",
    "    for value in data:                                                                                                                                                                                               \n",
    "        response.append(value.get(target))                                                                                                                                                                       \n",
    "    return \"|\".join(response)"
   ]
  },
  {
   "cell_type": "code",
   "execution_count": 11,
   "id": "1636cfa6",
   "metadata": {},
   "outputs": [],
   "source": [
    "def get_page(form_instance_url, form_definition, refresh_token):                                                                                                                                               \n",
    "    headers = get_headers(refresh_token)                                                                                                                                                                        \n",
    "    collections = fetch_all(form_instance_url, headers)                                                                                                                                                          \n",
    "    results = []                                                                                                                                                                                                     \n",
    "    for col in collections:                                                                                                                                                                                          \n",
    "        dt = {}                                                                                                                                                                                                      \n",
    "        for c in col:                                                                                                                                                                                                \n",
    "            if c != 'responses':                                                                                                                                                                                     \n",
    "                dt.update({c: col[c]})                                                                                                                                                                               \n",
    "            else:                                                                                                                                                                                                    \n",
    "                for g in form_definition:                                                                                                                                                                            \n",
    "                    answers = col.get(c)                                                                                                                                                                             \n",
    "                    answers = answers.get(g['id']) if answers else None\n",
    "                    for q in g['questions']:                                                                                                                                                                         \n",
    "                        d = None\n",
    "                        try:\n",
    "                            a = answers[0].get(q['id'])\n",
    "                            d = data_handler(a, q['type'])                                                                                                                                                           \n",
    "                        except Exception as e:                                                                                                                                                                       \n",
    "                            pass                                                                                                                                                                         \n",
    "                        # n = \"{}|{}\".format(q['id'], q['name'])                                                                                                                                                       \n",
    "                        dt.update({q['name']: d})                                                                                                                                                                            \n",
    "        results.append(dt)                                                                                                                                                                                           \n",
    "    return results"
   ]
  },
  {
   "cell_type": "code",
   "execution_count": 12,
   "id": "8f44f63b",
   "metadata": {},
   "outputs": [],
   "source": [
    "refresh_token = get_token().get(\"refresh_token\")\n",
    "headers = get_headers(refresh_token)\n",
    "surveys = get_data(SURVEY_URL, headers)"
   ]
  },
  {
   "cell_type": "code",
   "execution_count": 13,
   "id": "ba05be13",
   "metadata": {},
   "outputs": [],
   "source": [
    "registration_form_id = surveys.get(\"registrationFormId\")\n",
    "monitoring_forms = list(filter(lambda x: x.get(\"id\") != registration_form_id, surveys.get(\"forms\")))"
   ]
  },
  {
   "cell_type": "code",
   "execution_count": 14,
   "id": "4fbb3b39",
   "metadata": {},
   "outputs": [],
   "source": [
    "data = {}"
   ]
  },
  {
   "cell_type": "code",
   "execution_count": 15,
   "id": "4bb98f24",
   "metadata": {},
   "outputs": [],
   "source": [
    "for form in surveys.get(\"forms\"):\n",
    "    form_id = form.get(\"id\")\n",
    "    form_definition = form.get(\"questionGroups\")\n",
    "    collections = get_page(form.get(\"formInstancesUrl\"), form_definition, refresh_token)\n",
    "    data.update({form_id: collections})"
   ]
  },
  {
   "cell_type": "code",
   "execution_count": 16,
   "id": "87466a50",
   "metadata": {},
   "outputs": [],
   "source": [
    "## DATA COLLECTIONS ENDS HERE"
   ]
  },
  {
   "cell_type": "code",
   "execution_count": 17,
   "id": "65037ff3",
   "metadata": {},
   "outputs": [],
   "source": [
    "def get_monitoring_id_by_name(name:str):\n",
    "    target = list(filter(lambda x: x.get(\"name\").lower() == name.lower(), monitoring_forms))\n",
    "    if len(target):\n",
    "        return target[0].get(\"id\")\n",
    "    else:\n",
    "        print(f\"NOT FOUND: {name}\")"
   ]
  },
  {
   "cell_type": "code",
   "execution_count": 18,
   "id": "d14e0546",
   "metadata": {},
   "outputs": [],
   "source": [
    "monitoring_form_id = get_monitoring_id_by_name(MONITORING_FORM_NAME)\n",
    "registration_data = data.get(registration_form_id)\n",
    "monitoring_data = data.get(monitoring_form_id)"
   ]
  },
  {
   "cell_type": "code",
   "execution_count": 19,
   "id": "b3d7b036",
   "metadata": {},
   "outputs": [],
   "source": [
    "registration = pd.DataFrame(registration_data)\n",
    "monitoring = pd.DataFrame(monitoring_data)"
   ]
  },
  {
   "cell_type": "code",
   "execution_count": 20,
   "id": "19fe903f",
   "metadata": {},
   "outputs": [],
   "source": [
    "def splitter(x, pos):\n",
    "    return x.split(\"|\")[pos]"
   ]
  },
  {
   "cell_type": "code",
   "execution_count": 22,
   "id": "cf8d5862",
   "metadata": {},
   "outputs": [],
   "source": [
    "registration[\"DIVISION\"] = registration[\"Address\"].apply(lambda x: splitter(x, 0))"
   ]
  },
  {
   "cell_type": "code",
   "execution_count": 24,
   "id": "e27e664b",
   "metadata": {},
   "outputs": [],
   "source": [
    "merged = monitoring.merge(registration, on='dataPointId', suffixes=('_registration', '_monitoring'))"
   ]
  },
  {
   "cell_type": "code",
   "execution_count": 26,
   "id": "6a8a80d0",
   "metadata": {},
   "outputs": [],
   "source": [
    "aggregation = registration.groupby([\"DIVISION\"], as_index = False)[\"Age\"].agg(\n",
    "    ['min', 'max', 'sum']).to_dict(\"index\")"
   ]
  },
  {
   "cell_type": "code",
   "execution_count": 28,
   "id": "f6e5e863",
   "metadata": {},
   "outputs": [
    {
     "data": {
      "text/html": [
       "<div>\n",
       "<style scoped>\n",
       "    .dataframe tbody tr th:only-of-type {\n",
       "        vertical-align: middle;\n",
       "    }\n",
       "\n",
       "    .dataframe tbody tr th {\n",
       "        vertical-align: top;\n",
       "    }\n",
       "\n",
       "    .dataframe thead th {\n",
       "        text-align: right;\n",
       "    }\n",
       "</style>\n",
       "<table border=\"1\" class=\"dataframe\">\n",
       "  <thead>\n",
       "    <tr style=\"text-align: right;\">\n",
       "      <th></th>\n",
       "      <th>ABOMEY</th>\n",
       "      <th>ADJA-OUERE</th>\n",
       "      <th>ADJOHOUN</th>\n",
       "      <th>AGBANGNIZOUN</th>\n",
       "      <th>BANIKOARA</th>\n",
       "      <th>BANTE</th>\n",
       "      <th>COVE</th>\n",
       "      <th>DANGBO</th>\n",
       "      <th>PERERE</th>\n",
       "    </tr>\n",
       "  </thead>\n",
       "  <tbody>\n",
       "    <tr>\n",
       "      <th>min</th>\n",
       "      <td>34.0</td>\n",
       "      <td>23.0</td>\n",
       "      <td>30.0</td>\n",
       "      <td>30.0</td>\n",
       "      <td>30.0</td>\n",
       "      <td>25.0</td>\n",
       "      <td>35.0</td>\n",
       "      <td>25.0</td>\n",
       "      <td>34.0</td>\n",
       "    </tr>\n",
       "    <tr>\n",
       "      <th>max</th>\n",
       "      <td>34.0</td>\n",
       "      <td>23.0</td>\n",
       "      <td>30.0</td>\n",
       "      <td>30.0</td>\n",
       "      <td>30.0</td>\n",
       "      <td>25.0</td>\n",
       "      <td>35.0</td>\n",
       "      <td>25.0</td>\n",
       "      <td>34.0</td>\n",
       "    </tr>\n",
       "    <tr>\n",
       "      <th>sum</th>\n",
       "      <td>34.0</td>\n",
       "      <td>23.0</td>\n",
       "      <td>30.0</td>\n",
       "      <td>30.0</td>\n",
       "      <td>30.0</td>\n",
       "      <td>25.0</td>\n",
       "      <td>35.0</td>\n",
       "      <td>25.0</td>\n",
       "      <td>34.0</td>\n",
       "    </tr>\n",
       "  </tbody>\n",
       "</table>\n",
       "</div>"
      ],
      "text/plain": [
       "     ABOMEY  ADJA-OUERE  ADJOHOUN  AGBANGNIZOUN  BANIKOARA  BANTE  COVE  \\\n",
       "min    34.0        23.0      30.0          30.0       30.0   25.0  35.0   \n",
       "max    34.0        23.0      30.0          30.0       30.0   25.0  35.0   \n",
       "sum    34.0        23.0      30.0          30.0       30.0   25.0  35.0   \n",
       "\n",
       "     DANGBO  PERERE  \n",
       "min    25.0    34.0  \n",
       "max    25.0    34.0  \n",
       "sum    25.0    34.0  "
      ]
     },
     "execution_count": 28,
     "metadata": {},
     "output_type": "execute_result"
    }
   ],
   "source": [
    "pd.DataFrame(aggregation)"
   ]
  },
  {
   "cell_type": "code",
   "execution_count": null,
   "id": "34eba54c",
   "metadata": {},
   "outputs": [],
   "source": []
  }
 ],
 "metadata": {
  "kernelspec": {
   "display_name": "Python 3 (ipykernel)",
   "language": "python",
   "name": "python3"
  },
  "language_info": {
   "codemirror_mode": {
    "name": "ipython",
    "version": 3
   },
   "file_extension": ".py",
   "mimetype": "text/x-python",
   "name": "python",
   "nbconvert_exporter": "python",
   "pygments_lexer": "ipython3",
   "version": "3.10.7"
  }
 },
 "nbformat": 4,
 "nbformat_minor": 5
}
