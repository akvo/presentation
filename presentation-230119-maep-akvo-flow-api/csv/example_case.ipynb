{
 "cells": [
  {
   "cell_type": "code",
   "execution_count": null,
   "id": "f9696ef2",
   "metadata": {},
   "outputs": [],
   "source": [
    "import pandas as pd"
   ]
  },
  {
   "cell_type": "code",
   "execution_count": null,
   "id": "a2650091",
   "metadata": {},
   "outputs": [],
   "source": [
    "registration = pd.read_csv(\"./form_instances.csv\")\n",
    "monitoring = pd.read_csv(\"./form_instances_monitoring.csv\")"
   ]
  },
  {
   "cell_type": "code",
   "execution_count": null,
   "id": "3bd28b4a",
   "metadata": {},
   "outputs": [],
   "source": [
    "def splitter(x, pos):\n",
    "    return x.split(\"|\")[pos]"
   ]
  },
  {
   "cell_type": "code",
   "execution_count": null,
   "id": "c3c2c141",
   "metadata": {},
   "outputs": [],
   "source": [
    "registration[\"DIVISION\"] = registration[\"Address\"].apply(lambda x: splitter(x, 0))\n",
    "registration[\"COMMUNE\"] = registration[\"Address\"].apply(lambda x: splitter(x, 1))"
   ]
  },
  {
   "cell_type": "code",
   "execution_count": null,
   "id": "918b923c",
   "metadata": {},
   "outputs": [],
   "source": [
    "registration.groupby([\"DIVISION\"], as_index = False)[\"Age\"].agg(['min', 'max', 'sum']).to_dict(\"index\")"
   ]
  },
  {
   "cell_type": "code",
   "execution_count": null,
   "id": "fedc3688",
   "metadata": {},
   "outputs": [],
   "source": [
    "monitoring.to_dict(\"records\")"
   ]
  },
  {
   "cell_type": "code",
   "execution_count": null,
   "id": "0f860159",
   "metadata": {},
   "outputs": [],
   "source": [
    "merged = monitoring.merge(registration, on='dataPointId', suffixes=('_registration', '_monitoring'))"
   ]
  },
  {
   "cell_type": "code",
   "execution_count": null,
   "id": "a29a2ea8",
   "metadata": {},
   "outputs": [],
   "source": [
    "merged.to_dict(\"records\")"
   ]
  },
  {
   "cell_type": "code",
   "execution_count": null,
   "id": "b4ac518d",
   "metadata": {},
   "outputs": [],
   "source": [
    "list(merged)"
   ]
  },
  {
   "cell_type": "code",
   "execution_count": null,
   "id": "b1a07ceb",
   "metadata": {},
   "outputs": [],
   "source": []
  }
 ],
 "metadata": {
  "kernelspec": {
   "display_name": "Python 3 (ipykernel)",
   "language": "python",
   "name": "python3"
  },
  "language_info": {
   "codemirror_mode": {
    "name": "ipython",
    "version": 3
   },
   "file_extension": ".py",
   "mimetype": "text/x-python",
   "name": "python",
   "nbconvert_exporter": "python",
   "pygments_lexer": "ipython3",
   "version": "3.10.7"
  }
 },
 "nbformat": 4,
 "nbformat_minor": 5
}
